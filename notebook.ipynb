{
 "cells": [
  {
   "cell_type": "markdown",
   "metadata": {},
   "source": [
    "<center> <img src=\"https://oci02.img.iteso.mx/Identidades-De-Instancia/ITESO/Logos%20ITESO/Logo-ITESO-Principal.jpg\" align=\"center\" width=\"650\" height=\"400\"/> </center>"
   ]
  },
  {
   "cell_type": "markdown",
   "metadata": {},
   "source": [
    "<center><font color=#555555><font size=6> MAF1731 - Microstructure and Trading Systems </font> <br> <br>\n",
    "    \n",
    "<center><font color=#555555><font size=5> B.Eng Financial Engineering </font> <br> <br> <br> <br>\n",
    "\n",
    "<center><font color=#555555><font size=6> I.F. Andrea Flores Fernández &</font> <br> <br>\n",
    "    \n",
    "<center><font color=#555555><font size=6> I.F. Tania Bell Nicholls</font> <br> <br>\n",
    "   \n",
    "<center> <font color= #555555> <font size = 4> Feb 2023 </a> | <font color= #555555> <font size = 4> Repository: <a href='https://github.com/Tania-Bell/MyST_Lab1.git'>Link</a></font>"
   ]
  },
  {
   "cell_type": "markdown",
   "metadata": {},
   "source": [
    "<hr style=\"border:0.02in solid gray\"> </hr>"
   ]
  },
  {
   "cell_type": "markdown",
   "metadata": {},
   "source": [
    "<center> <font color= #555555> <font size = 6> Lab 1 </font> <br> <br> <font color= #555555> <font size = 5> Active vs. Passive Investing  </font>"
   ]
  },
  {
   "cell_type": "markdown",
   "metadata": {},
   "source": [
    "<hr style=\"border:0.02in solid gray\"> </hr>"
   ]
  },
  {
   "cell_type": "markdown",
   "metadata": {},
   "source": [
    "<br>"
   ]
  },
  {
   "cell_type": "markdown",
   "metadata": {},
   "source": [
    "<font color= #555555> <font size = 4> Abstract </font>"
   ]
  },
  {
   "cell_type": "markdown",
   "metadata": {},
   "source": [
    "<font color= #6B6B6B> <font size = 3>  During this lab we will explore passive and active investing to be able to analyze which management style is most benefial to an investor. For passive investment we simulated the same weight used in the NAFTRAC index and evaluated the return during a given period of time, for active investment we used Markowitz and Sharpe for our inicial weight and adjusted according to their return percentage. For both strategies we used shares form the Mexican Stock Market and 1 million pesos. Our findings proved that active investing is more beneficial based on the final returns.   </font>"
   ]
  },
  {
   "cell_type": "markdown",
   "metadata": {},
   "source": [
    "<br>"
   ]
  },
  {
   "cell_type": "markdown",
   "metadata": {},
   "source": [
    "# <font color= #6B6B6B> 0. Install/Load Packages and Depedencies </font>"
   ]
  },
  {
   "cell_type": "markdown",
   "metadata": {},
   "source": [
    "<hr style=\"border:0.02in solid gray\"> </hr>"
   ]
  },
  {
   "cell_type": "markdown",
   "metadata": {},
   "source": [
    "## <font color= #6B6B6B> 0.2 Python Packages </font> <font color= #555555>"
   ]
  },
  {
   "cell_type": "markdown",
   "metadata": {},
   "source": [
    "In order to run this notebook, it is necessary to have installed and/or have the _requirements.txt_ file with the following: "
   ]
  },
  {
   "cell_type": "markdown",
   "metadata": {},
   "source": [
    "- pandas\n",
    "- scipy\n",
    "- yfinance\n",
    "- glob2"
   ]
  },
  {
   "cell_type": "markdown",
   "metadata": {},
   "source": [
    "## <font color= #6B6B6B> 0.3 Files Dependencies </font> <font color= #555555>"
   ]
  },
  {
   "cell_type": "markdown",
   "metadata": {},
   "source": [
    "The following are the file dependencies that are needed to run this notebook:"
   ]
  },
  {
   "cell_type": "markdown",
   "metadata": {},
   "source": [
    "- files/precios.csv : Precios históricos\n",
    "- files/datos.txt : Otros datos históricos"
   ]
  },
  {
   "cell_type": "markdown",
   "metadata": {},
   "source": [
    "## <font color= #6E6E6E> 0.4 Install Packages</font>"
   ]
  },
  {
   "cell_type": "code",
   "execution_count": 1,
   "metadata": {},
   "outputs": [],
   "source": [
    "%%capture\n",
    "\n",
    "# Install all the pip packages in the requirements.txt\n",
    "import sys\n",
    "!{sys.executable} -m pip install -r requirements.txt"
   ]
  },
  {
   "cell_type": "code",
   "execution_count": 2,
   "metadata": {},
   "outputs": [],
   "source": [
    "# importing all libraries\n",
    "import pandas as pd\n",
    "import glob\n",
    "import numpy as np\n",
    "from scipy.optimize import minimize\n",
    "import yfinance as yf\n",
    "import functions as fn\n",
    "from data import all_files\n",
    "import pandas as pd"
   ]
  },
  {
   "cell_type": "markdown",
   "metadata": {},
   "source": [
    "# <font color= #6B6B6B> <font size = 6> 1. Introduction </font>"
   ]
  },
  {
   "cell_type": "markdown",
   "metadata": {},
   "source": [
    "<hr style=\"border:0.02in solid gray\"> </hr>"
   ]
  },
  {
   "cell_type": "markdown",
   "metadata": {},
   "source": [
    "**Passive and Active** investments are commonly used in the equity market to strategize and be able to get the more profitable results, so naturally there is discussion on which management style is better for an investor. Passive investment tracts an specific index and is fit for investors who believe that market prices are what impact the price of an investment (examples include ETFs and smart beta). On the other hand, active investment aims to outperform a benchmark and a fund manager is in charge of making the decisions.  \n",
    "\n",
    "In both of the texts, *Active VS. Passive Investing* by Jonathan Barnes written in 2003 and *Active and passive investing - the great investment debate* published by Rathbones in 2017, state that both approaches have advantages and disadvantages but explain the importance of the debate especially during a bear market where people become more interested in the best way to invest and were we find the market in 2023. \n",
    "\n",
    "Among economists, there are a lot of different takes on the matter: **Harry Markowtiz** and **William Sharpe**, the creators of the ratio for risk and the Modern Portfolio Theory respectively, both support passive management. Whereas **John Maynard Keynes**, believed that the markets were not efficient enough, meaning he supported active management, you could say he proved this by achieving a higher annual compared to the UK market by managing the King’s College endowment. ()\n",
    "An important finding from a study carried out by Invesco, that tracked different market cycles and compared each management style, showed that most **active management outperforms** passive management after fees during periods of **excess return** and also by comparing return per unit of risks, but during **“negative return environments”** **passive management** was able to have a better outcome. \n",
    "\n",
    "During this laboratory we will evaluate which management style is better by simulating  both scenarios. Using 1 million pesos as reference in each case, we will use the NAFTRAC index weight for passive investment; for active we will calculate the weights with the lower sharpe ratio and readjust every month based on the return of each share. Given the same period of time we will compare and share our own results. \n"
   ]
  },
  {
   "cell_type": "markdown",
   "metadata": {},
   "source": [
    "# <font color= #6B6B6B> <font size = 5> 2. Objectives </font>"
   ]
  },
  {
   "cell_type": "markdown",
   "metadata": {},
   "source": [
    "To learn how to create a passive and active strategy and evaluate which would be the best for an especific escenario \n",
    "\n",
    "Apply theory about optimizating portafolio management by using python technicall skills and theory. \n",
    "\n"
   ]
  },
  {
   "cell_type": "markdown",
   "metadata": {},
   "source": [
    "# <font color= #6B6B6B> 3. Data Description </font>"
   ]
  },
  {
   "cell_type": "markdown",
   "metadata": {},
   "source": [
    "<hr style=\"border:0.02in solid gray\"> </hr>"
   ]
  },
  {
   "cell_type": "code",
   "execution_count": 9,
   "metadata": {},
   "outputs": [],
   "source": [
    "%%capture\n",
    "# comission rate used on each transaction \n",
    "comission_rate = 0.00125\n",
    "\n",
    "# risk free rate for México on Jan.1, 2021\n",
    "rf=.0429\n",
    "\n",
    "# rate of change benchmark in which you would readjust shares (Active)\n",
    "r_change = 0.05\n",
    "\n",
    "# porcentage of shares increased or reduced if there is a need for readjustment\n",
    "# Active\n",
    "r_rebalance = 0.025\n",
    "\n",
    "#access to documents on files \n",
    "all_files = fn.import_files('files/*.csv')\n"
   ]
  },
  {
   "cell_type": "markdown",
   "metadata": {},
   "source": [
    "To find the common tickers that were always found in files we created a function that extracts only the tickers that were always found on NAFTRAC and the rest were assigned to cash. Also, null values were deleted and we add \".MX\" to all tickers. "
   ]
  },
  {
   "cell_type": "code",
   "execution_count": 10,
   "metadata": {},
   "outputs": [],
   "source": [
    "%%capture\n",
    "common_tickers, all_files = fn.find_tickers(all_files,'Ticker','Peso (%)')\n"
   ]
  },
  {
   "cell_type": "code",
   "execution_count": 16,
   "metadata": {},
   "outputs": [
    {
     "data": {
      "text/html": [
       "<div>\n",
       "<style scoped>\n",
       "    .dataframe tbody tr th:only-of-type {\n",
       "        vertical-align: middle;\n",
       "    }\n",
       "\n",
       "    .dataframe tbody tr th {\n",
       "        vertical-align: top;\n",
       "    }\n",
       "\n",
       "    .dataframe thead th {\n",
       "        text-align: right;\n",
       "    }\n",
       "</style>\n",
       "<table border=\"1\" class=\"dataframe\">\n",
       "  <thead>\n",
       "    <tr style=\"text-align: right;\">\n",
       "      <th></th>\n",
       "      <th>0</th>\n",
       "    </tr>\n",
       "  </thead>\n",
       "  <tbody>\n",
       "    <tr>\n",
       "      <th>0</th>\n",
       "      <td>AC.MX</td>\n",
       "    </tr>\n",
       "    <tr>\n",
       "      <th>1</th>\n",
       "      <td>AMXL.MX</td>\n",
       "    </tr>\n",
       "    <tr>\n",
       "      <th>2</th>\n",
       "      <td>BIMBOA.MX</td>\n",
       "    </tr>\n",
       "    <tr>\n",
       "      <th>3</th>\n",
       "      <td>VESTA.MX</td>\n",
       "    </tr>\n",
       "    <tr>\n",
       "      <th>4</th>\n",
       "      <td>ALSEA.MX</td>\n",
       "    </tr>\n",
       "    <tr>\n",
       "      <th>5</th>\n",
       "      <td>GCC.MX</td>\n",
       "    </tr>\n",
       "    <tr>\n",
       "      <th>6</th>\n",
       "      <td>MXN.MX</td>\n",
       "    </tr>\n",
       "    <tr>\n",
       "      <th>7</th>\n",
       "      <td>PINFRA.MX</td>\n",
       "    </tr>\n",
       "    <tr>\n",
       "      <th>8</th>\n",
       "      <td>FEMSAUBD.MX</td>\n",
       "    </tr>\n",
       "    <tr>\n",
       "      <th>9</th>\n",
       "      <td>WALMEX.MX</td>\n",
       "    </tr>\n",
       "  </tbody>\n",
       "</table>\n",
       "</div>"
      ],
      "text/plain": [
       "             0\n",
       "0        AC.MX\n",
       "1      AMXL.MX\n",
       "2    BIMBOA.MX\n",
       "3     VESTA.MX\n",
       "4     ALSEA.MX\n",
       "5       GCC.MX\n",
       "6       MXN.MX\n",
       "7    PINFRA.MX\n",
       "8  FEMSAUBD.MX\n",
       "9    WALMEX.MX"
      ]
     },
     "execution_count": 16,
     "metadata": {},
     "output_type": "execute_result"
    }
   ],
   "source": [
    "pd.DataFrame(common_tickers).head(10)"
   ]
  },
  {
   "cell_type": "markdown",
   "metadata": {},
   "source": [
    "Importing Prices using Yahoo finance using the tickers that are stored in common_tickers"
   ]
  },
  {
   "cell_type": "code",
   "execution_count": 11,
   "metadata": {},
   "outputs": [
    {
     "name": "stdout",
     "output_type": "stream",
     "text": [
      "[*********************100%***********************]  31 of 31 completed\n"
     ]
    }
   ],
   "source": [
    "prices=fn.import_prices(all_files,common_tickers,'2021-01-29','2023-01-26')"
   ]
  },
  {
   "cell_type": "code",
   "execution_count": 12,
   "metadata": {},
   "outputs": [
    {
     "data": {
      "text/html": [
       "<div>\n",
       "<style scoped>\n",
       "    .dataframe tbody tr th:only-of-type {\n",
       "        vertical-align: middle;\n",
       "    }\n",
       "\n",
       "    .dataframe tbody tr th {\n",
       "        vertical-align: top;\n",
       "    }\n",
       "\n",
       "    .dataframe thead th {\n",
       "        text-align: right;\n",
       "    }\n",
       "</style>\n",
       "<table border=\"1\" class=\"dataframe\">\n",
       "  <thead>\n",
       "    <tr style=\"text-align: right;\">\n",
       "      <th>Date</th>\n",
       "      <th>20210531</th>\n",
       "      <th>20220630</th>\n",
       "      <th>20210730</th>\n",
       "      <th>20210331</th>\n",
       "      <th>20210630</th>\n",
       "      <th>20220531</th>\n",
       "      <th>20210430</th>\n",
       "      <th>20230125</th>\n",
       "      <th>20210226</th>\n",
       "      <th>20220331</th>\n",
       "      <th>...</th>\n",
       "      <th>20221230</th>\n",
       "      <th>20220729</th>\n",
       "      <th>20210129</th>\n",
       "      <th>20220228</th>\n",
       "      <th>20211026</th>\n",
       "      <th>20211231</th>\n",
       "      <th>20210930</th>\n",
       "      <th>20220429</th>\n",
       "      <th>20221130</th>\n",
       "      <th>20220831</th>\n",
       "    </tr>\n",
       "  </thead>\n",
       "  <tbody>\n",
       "    <tr>\n",
       "      <th>AC.MX</th>\n",
       "      <td>105.987480</td>\n",
       "      <td>130.095276</td>\n",
       "      <td>112.944534</td>\n",
       "      <td>92.099121</td>\n",
       "      <td>108.406509</td>\n",
       "      <td>131.361862</td>\n",
       "      <td>101.693222</td>\n",
       "      <td>164.699997</td>\n",
       "      <td>86.546692</td>\n",
       "      <td>129.451553</td>\n",
       "      <td>...</td>\n",
       "      <td>158.039993</td>\n",
       "      <td>138.647202</td>\n",
       "      <td>84.994209</td>\n",
       "      <td>129.327133</td>\n",
       "      <td>118.788620</td>\n",
       "      <td>124.924347</td>\n",
       "      <td>119.471954</td>\n",
       "      <td>127.139915</td>\n",
       "      <td>160.600006</td>\n",
       "      <td>134.660873</td>\n",
       "    </tr>\n",
       "    <tr>\n",
       "      <th>ALFAA.MX</th>\n",
       "      <td>13.945353</td>\n",
       "      <td>14.280000</td>\n",
       "      <td>15.122429</td>\n",
       "      <td>11.750805</td>\n",
       "      <td>14.922925</td>\n",
       "      <td>15.120000</td>\n",
       "      <td>14.134883</td>\n",
       "      <td>13.640000</td>\n",
       "      <td>11.342515</td>\n",
       "      <td>15.110000</td>\n",
       "      <td>...</td>\n",
       "      <td>12.430000</td>\n",
       "      <td>14.010000</td>\n",
       "      <td>12.846219</td>\n",
       "      <td>15.301983</td>\n",
       "      <td>15.361834</td>\n",
       "      <td>14.982777</td>\n",
       "      <td>14.274536</td>\n",
       "      <td>13.670000</td>\n",
       "      <td>13.500000</td>\n",
       "      <td>12.820000</td>\n",
       "    </tr>\n",
       "    <tr>\n",
       "      <th>ALSEA.MX</th>\n",
       "      <td>33.410000</td>\n",
       "      <td>38.080002</td>\n",
       "      <td>40.369999</td>\n",
       "      <td>30.280001</td>\n",
       "      <td>35.470001</td>\n",
       "      <td>42.150002</td>\n",
       "      <td>32.950001</td>\n",
       "      <td>44.599998</td>\n",
       "      <td>25.440001</td>\n",
       "      <td>49.860001</td>\n",
       "      <td>...</td>\n",
       "      <td>36.779999</td>\n",
       "      <td>39.660000</td>\n",
       "      <td>23.110001</td>\n",
       "      <td>44.360001</td>\n",
       "      <td>45.430000</td>\n",
       "      <td>37.950001</td>\n",
       "      <td>41.610001</td>\n",
       "      <td>44.730000</td>\n",
       "      <td>38.799999</td>\n",
       "      <td>36.560001</td>\n",
       "    </tr>\n",
       "    <tr>\n",
       "      <th>AMXL.MX</th>\n",
       "      <td>14.857653</td>\n",
       "      <td>20.063608</td>\n",
       "      <td>16.108770</td>\n",
       "      <td>13.312760</td>\n",
       "      <td>14.304543</td>\n",
       "      <td>20.317455</td>\n",
       "      <td>13.493952</td>\n",
       "      <td>19.959999</td>\n",
       "      <td>12.769189</td>\n",
       "      <td>20.620119</td>\n",
       "      <td>...</td>\n",
       "      <td>17.600000</td>\n",
       "      <td>18.940828</td>\n",
       "      <td>13.036207</td>\n",
       "      <td>18.071894</td>\n",
       "      <td>17.383564</td>\n",
       "      <td>21.176628</td>\n",
       "      <td>17.634661</td>\n",
       "      <td>19.389942</td>\n",
       "      <td>18.750000</td>\n",
       "      <td>17.170000</td>\n",
       "    </tr>\n",
       "    <tr>\n",
       "      <th>ASURB.MX</th>\n",
       "      <td>339.830536</td>\n",
       "      <td>395.230011</td>\n",
       "      <td>338.268341</td>\n",
       "      <td>339.596680</td>\n",
       "      <td>344.143005</td>\n",
       "      <td>429.950012</td>\n",
       "      <td>320.494720</td>\n",
       "      <td>544.619995</td>\n",
       "      <td>366.163483</td>\n",
       "      <td>424.451050</td>\n",
       "      <td>...</td>\n",
       "      <td>454.010010</td>\n",
       "      <td>384.000000</td>\n",
       "      <td>301.710938</td>\n",
       "      <td>423.475830</td>\n",
       "      <td>376.061737</td>\n",
       "      <td>404.209991</td>\n",
       "      <td>368.843018</td>\n",
       "      <td>425.827881</td>\n",
       "      <td>478.500000</td>\n",
       "      <td>426.709991</td>\n",
       "    </tr>\n",
       "    <tr>\n",
       "      <th>BBAJIOO.MX</th>\n",
       "      <td>29.467915</td>\n",
       "      <td>37.080383</td>\n",
       "      <td>30.362431</td>\n",
       "      <td>22.088343</td>\n",
       "      <td>30.464661</td>\n",
       "      <td>44.660194</td>\n",
       "      <td>25.733681</td>\n",
       "      <td>71.470001</td>\n",
       "      <td>19.252193</td>\n",
       "      <td>46.523354</td>\n",
       "      <td>...</td>\n",
       "      <td>61.380001</td>\n",
       "      <td>44.099068</td>\n",
       "      <td>19.837048</td>\n",
       "      <td>42.383022</td>\n",
       "      <td>34.468685</td>\n",
       "      <td>31.350658</td>\n",
       "      <td>33.224880</td>\n",
       "      <td>42.928249</td>\n",
       "      <td>62.689999</td>\n",
       "      <td>42.020000</td>\n",
       "    </tr>\n",
       "    <tr>\n",
       "      <th>BIMBOA.MX</th>\n",
       "      <td>43.038185</td>\n",
       "      <td>64.881554</td>\n",
       "      <td>45.030605</td>\n",
       "      <td>41.066132</td>\n",
       "      <td>43.077446</td>\n",
       "      <td>64.236404</td>\n",
       "      <td>38.807014</td>\n",
       "      <td>95.790001</td>\n",
       "      <td>37.620018</td>\n",
       "      <td>58.948090</td>\n",
       "      <td>...</td>\n",
       "      <td>82.300003</td>\n",
       "      <td>71.501709</td>\n",
       "      <td>36.873360</td>\n",
       "      <td>61.902359</td>\n",
       "      <td>56.376591</td>\n",
       "      <td>61.804214</td>\n",
       "      <td>56.965481</td>\n",
       "      <td>61.735508</td>\n",
       "      <td>81.870003</td>\n",
       "      <td>65.725197</td>\n",
       "    </tr>\n",
       "    <tr>\n",
       "      <th>BOLSAA.MX</th>\n",
       "      <td>42.025230</td>\n",
       "      <td>35.689999</td>\n",
       "      <td>38.370453</td>\n",
       "      <td>37.262962</td>\n",
       "      <td>41.468040</td>\n",
       "      <td>36.250000</td>\n",
       "      <td>40.596302</td>\n",
       "      <td>39.650002</td>\n",
       "      <td>38.708313</td>\n",
       "      <td>39.720928</td>\n",
       "      <td>...</td>\n",
       "      <td>37.730000</td>\n",
       "      <td>37.939999</td>\n",
       "      <td>41.553848</td>\n",
       "      <td>37.038868</td>\n",
       "      <td>38.379894</td>\n",
       "      <td>36.755547</td>\n",
       "      <td>37.511059</td>\n",
       "      <td>38.181576</td>\n",
       "      <td>38.090000</td>\n",
       "      <td>36.389999</td>\n",
       "    </tr>\n",
       "    <tr>\n",
       "      <th>CEMEXCPO.MX</th>\n",
       "      <td>16.809999</td>\n",
       "      <td>7.830000</td>\n",
       "      <td>16.240000</td>\n",
       "      <td>14.420000</td>\n",
       "      <td>16.820000</td>\n",
       "      <td>9.260000</td>\n",
       "      <td>16.090000</td>\n",
       "      <td>9.590000</td>\n",
       "      <td>13.940000</td>\n",
       "      <td>10.690000</td>\n",
       "      <td>...</td>\n",
       "      <td>7.920000</td>\n",
       "      <td>8.230000</td>\n",
       "      <td>11.760000</td>\n",
       "      <td>10.520000</td>\n",
       "      <td>13.870000</td>\n",
       "      <td>13.990000</td>\n",
       "      <td>14.890000</td>\n",
       "      <td>8.980000</td>\n",
       "      <td>8.820000</td>\n",
       "      <td>7.470000</td>\n",
       "    </tr>\n",
       "    <tr>\n",
       "      <th>CUERVO.MX</th>\n",
       "      <td>49.301407</td>\n",
       "      <td>43.103722</td>\n",
       "      <td>48.928139</td>\n",
       "      <td>45.932133</td>\n",
       "      <td>51.511574</td>\n",
       "      <td>43.926163</td>\n",
       "      <td>47.454693</td>\n",
       "      <td>45.939999</td>\n",
       "      <td>42.386051</td>\n",
       "      <td>48.504074</td>\n",
       "      <td>...</td>\n",
       "      <td>42.549999</td>\n",
       "      <td>45.719669</td>\n",
       "      <td>42.955776</td>\n",
       "      <td>50.892120</td>\n",
       "      <td>43.638802</td>\n",
       "      <td>50.892120</td>\n",
       "      <td>44.411697</td>\n",
       "      <td>50.406582</td>\n",
       "      <td>43.480000</td>\n",
       "      <td>41.200001</td>\n",
       "    </tr>\n",
       "  </tbody>\n",
       "</table>\n",
       "<p>10 rows × 25 columns</p>\n",
       "</div>"
      ],
      "text/plain": [
       "Date           20210531    20220630    20210730    20210331    20210630  \\\n",
       "AC.MX        105.987480  130.095276  112.944534   92.099121  108.406509   \n",
       "ALFAA.MX      13.945353   14.280000   15.122429   11.750805   14.922925   \n",
       "ALSEA.MX      33.410000   38.080002   40.369999   30.280001   35.470001   \n",
       "AMXL.MX       14.857653   20.063608   16.108770   13.312760   14.304543   \n",
       "ASURB.MX     339.830536  395.230011  338.268341  339.596680  344.143005   \n",
       "BBAJIOO.MX    29.467915   37.080383   30.362431   22.088343   30.464661   \n",
       "BIMBOA.MX     43.038185   64.881554   45.030605   41.066132   43.077446   \n",
       "BOLSAA.MX     42.025230   35.689999   38.370453   37.262962   41.468040   \n",
       "CEMEXCPO.MX   16.809999    7.830000   16.240000   14.420000   16.820000   \n",
       "CUERVO.MX     49.301407   43.103722   48.928139   45.932133   51.511574   \n",
       "\n",
       "Date           20220531    20210430    20230125    20210226    20220331  ...  \\\n",
       "AC.MX        131.361862  101.693222  164.699997   86.546692  129.451553  ...   \n",
       "ALFAA.MX      15.120000   14.134883   13.640000   11.342515   15.110000  ...   \n",
       "ALSEA.MX      42.150002   32.950001   44.599998   25.440001   49.860001  ...   \n",
       "AMXL.MX       20.317455   13.493952   19.959999   12.769189   20.620119  ...   \n",
       "ASURB.MX     429.950012  320.494720  544.619995  366.163483  424.451050  ...   \n",
       "BBAJIOO.MX    44.660194   25.733681   71.470001   19.252193   46.523354  ...   \n",
       "BIMBOA.MX     64.236404   38.807014   95.790001   37.620018   58.948090  ...   \n",
       "BOLSAA.MX     36.250000   40.596302   39.650002   38.708313   39.720928  ...   \n",
       "CEMEXCPO.MX    9.260000   16.090000    9.590000   13.940000   10.690000  ...   \n",
       "CUERVO.MX     43.926163   47.454693   45.939999   42.386051   48.504074  ...   \n",
       "\n",
       "Date           20221230    20220729    20210129    20220228    20211026  \\\n",
       "AC.MX        158.039993  138.647202   84.994209  129.327133  118.788620   \n",
       "ALFAA.MX      12.430000   14.010000   12.846219   15.301983   15.361834   \n",
       "ALSEA.MX      36.779999   39.660000   23.110001   44.360001   45.430000   \n",
       "AMXL.MX       17.600000   18.940828   13.036207   18.071894   17.383564   \n",
       "ASURB.MX     454.010010  384.000000  301.710938  423.475830  376.061737   \n",
       "BBAJIOO.MX    61.380001   44.099068   19.837048   42.383022   34.468685   \n",
       "BIMBOA.MX     82.300003   71.501709   36.873360   61.902359   56.376591   \n",
       "BOLSAA.MX     37.730000   37.939999   41.553848   37.038868   38.379894   \n",
       "CEMEXCPO.MX    7.920000    8.230000   11.760000   10.520000   13.870000   \n",
       "CUERVO.MX     42.549999   45.719669   42.955776   50.892120   43.638802   \n",
       "\n",
       "Date           20211231    20210930    20220429    20221130    20220831  \n",
       "AC.MX        124.924347  119.471954  127.139915  160.600006  134.660873  \n",
       "ALFAA.MX      14.982777   14.274536   13.670000   13.500000   12.820000  \n",
       "ALSEA.MX      37.950001   41.610001   44.730000   38.799999   36.560001  \n",
       "AMXL.MX       21.176628   17.634661   19.389942   18.750000   17.170000  \n",
       "ASURB.MX     404.209991  368.843018  425.827881  478.500000  426.709991  \n",
       "BBAJIOO.MX    31.350658   33.224880   42.928249   62.689999   42.020000  \n",
       "BIMBOA.MX     61.804214   56.965481   61.735508   81.870003   65.725197  \n",
       "BOLSAA.MX     36.755547   37.511059   38.181576   38.090000   36.389999  \n",
       "CEMEXCPO.MX   13.990000   14.890000    8.980000    8.820000    7.470000  \n",
       "CUERVO.MX     50.892120   44.411697   50.406582   43.480000   41.200001  \n",
       "\n",
       "[10 rows x 25 columns]"
      ]
     },
     "execution_count": 12,
     "metadata": {},
     "output_type": "execute_result"
    }
   ],
   "source": [
    "prices.head(10)"
   ]
  },
  {
   "cell_type": "markdown",
   "metadata": {},
   "source": [
    "To be able to correctly use minimize and get the most optimal combinating of weight using Sharpe and Markowitz (active investment) we got the daily prices of our tickers. "
   ]
  },
  {
   "cell_type": "code",
   "execution_count": 17,
   "metadata": {
    "scrolled": true
   },
   "outputs": [
    {
     "name": "stdout",
     "output_type": "stream",
     "text": [
      "[*********************100%***********************]  31 of 31 completed\n"
     ]
    }
   ],
   "source": [
    "prices_daily = fn.import_prices_d(common_tickers,'2021-01-31','2022-01-31')"
   ]
  },
  {
   "cell_type": "code",
   "execution_count": 18,
   "metadata": {},
   "outputs": [
    {
     "data": {
      "text/html": [
       "<div>\n",
       "<style scoped>\n",
       "    .dataframe tbody tr th:only-of-type {\n",
       "        vertical-align: middle;\n",
       "    }\n",
       "\n",
       "    .dataframe tbody tr th {\n",
       "        vertical-align: top;\n",
       "    }\n",
       "\n",
       "    .dataframe thead th {\n",
       "        text-align: right;\n",
       "    }\n",
       "</style>\n",
       "<table border=\"1\" class=\"dataframe\">\n",
       "  <thead>\n",
       "    <tr style=\"text-align: right;\">\n",
       "      <th>Date</th>\n",
       "      <th>20210202</th>\n",
       "      <th>20210203</th>\n",
       "      <th>20210204</th>\n",
       "      <th>20210205</th>\n",
       "      <th>20210208</th>\n",
       "      <th>20210209</th>\n",
       "      <th>20210210</th>\n",
       "      <th>20210211</th>\n",
       "      <th>20210212</th>\n",
       "      <th>20210215</th>\n",
       "      <th>...</th>\n",
       "      <th>20220117</th>\n",
       "      <th>20220118</th>\n",
       "      <th>20220119</th>\n",
       "      <th>20220120</th>\n",
       "      <th>20220121</th>\n",
       "      <th>20220124</th>\n",
       "      <th>20220125</th>\n",
       "      <th>20220126</th>\n",
       "      <th>20220127</th>\n",
       "      <th>20220128</th>\n",
       "    </tr>\n",
       "  </thead>\n",
       "  <tbody>\n",
       "    <tr>\n",
       "      <th>AC.MX</th>\n",
       "      <td>86.199677</td>\n",
       "      <td>85.688255</td>\n",
       "      <td>88.254433</td>\n",
       "      <td>86.510170</td>\n",
       "      <td>84.930275</td>\n",
       "      <td>87.204224</td>\n",
       "      <td>85.578659</td>\n",
       "      <td>85.112923</td>\n",
       "      <td>85.021599</td>\n",
       "      <td>85.998756</td>\n",
       "      <td>...</td>\n",
       "      <td>121.679680</td>\n",
       "      <td>120.052567</td>\n",
       "      <td>117.774605</td>\n",
       "      <td>118.377586</td>\n",
       "      <td>118.492447</td>\n",
       "      <td>116.989761</td>\n",
       "      <td>117.707603</td>\n",
       "      <td>118.310593</td>\n",
       "      <td>116.281479</td>\n",
       "      <td>116.300621</td>\n",
       "    </tr>\n",
       "    <tr>\n",
       "      <th>ALFAA.MX</th>\n",
       "      <td>11.979847</td>\n",
       "      <td>12.119263</td>\n",
       "      <td>12.298512</td>\n",
       "      <td>12.308471</td>\n",
       "      <td>12.009722</td>\n",
       "      <td>12.188971</td>\n",
       "      <td>12.059513</td>\n",
       "      <td>12.059513</td>\n",
       "      <td>12.009722</td>\n",
       "      <td>12.079430</td>\n",
       "      <td>...</td>\n",
       "      <td>14.743370</td>\n",
       "      <td>14.444114</td>\n",
       "      <td>14.783271</td>\n",
       "      <td>14.843123</td>\n",
       "      <td>14.813197</td>\n",
       "      <td>14.464065</td>\n",
       "      <td>14.513941</td>\n",
       "      <td>14.543866</td>\n",
       "      <td>14.384263</td>\n",
       "      <td>14.573792</td>\n",
       "    </tr>\n",
       "    <tr>\n",
       "      <th>ALSEA.MX</th>\n",
       "      <td>23.709999</td>\n",
       "      <td>23.879999</td>\n",
       "      <td>24.040001</td>\n",
       "      <td>23.770000</td>\n",
       "      <td>23.379999</td>\n",
       "      <td>23.570000</td>\n",
       "      <td>23.969999</td>\n",
       "      <td>23.920000</td>\n",
       "      <td>24.340000</td>\n",
       "      <td>24.590000</td>\n",
       "      <td>...</td>\n",
       "      <td>43.139999</td>\n",
       "      <td>43.330002</td>\n",
       "      <td>41.900002</td>\n",
       "      <td>41.959999</td>\n",
       "      <td>39.930000</td>\n",
       "      <td>39.660000</td>\n",
       "      <td>39.330002</td>\n",
       "      <td>40.790001</td>\n",
       "      <td>40.860001</td>\n",
       "      <td>41.570000</td>\n",
       "    </tr>\n",
       "    <tr>\n",
       "      <th>AMXL.MX</th>\n",
       "      <td>13.064816</td>\n",
       "      <td>13.007598</td>\n",
       "      <td>13.322298</td>\n",
       "      <td>13.055279</td>\n",
       "      <td>13.007598</td>\n",
       "      <td>13.236470</td>\n",
       "      <td>13.160180</td>\n",
       "      <td>12.921770</td>\n",
       "      <td>13.207862</td>\n",
       "      <td>13.284152</td>\n",
       "      <td>...</td>\n",
       "      <td>20.307692</td>\n",
       "      <td>19.907396</td>\n",
       "      <td>19.516863</td>\n",
       "      <td>19.350887</td>\n",
       "      <td>19.302071</td>\n",
       "      <td>19.477812</td>\n",
       "      <td>19.360651</td>\n",
       "      <td>19.341124</td>\n",
       "      <td>18.579586</td>\n",
       "      <td>18.569822</td>\n",
       "    </tr>\n",
       "    <tr>\n",
       "      <th>ASURB.MX</th>\n",
       "      <td>314.582733</td>\n",
       "      <td>313.806305</td>\n",
       "      <td>314.133698</td>\n",
       "      <td>320.616333</td>\n",
       "      <td>326.425537</td>\n",
       "      <td>325.901672</td>\n",
       "      <td>321.252502</td>\n",
       "      <td>315.714630</td>\n",
       "      <td>317.538757</td>\n",
       "      <td>321.476959</td>\n",
       "      <td>...</td>\n",
       "      <td>408.588989</td>\n",
       "      <td>406.523773</td>\n",
       "      <td>389.743835</td>\n",
       "      <td>390.059357</td>\n",
       "      <td>386.913727</td>\n",
       "      <td>381.750641</td>\n",
       "      <td>384.246155</td>\n",
       "      <td>384.982330</td>\n",
       "      <td>382.391266</td>\n",
       "      <td>391.158875</td>\n",
       "    </tr>\n",
       "  </tbody>\n",
       "</table>\n",
       "<p>5 rows × 253 columns</p>\n",
       "</div>"
      ],
      "text/plain": [
       "Date        20210202    20210203    20210204    20210205    20210208  \\\n",
       "AC.MX      86.199677   85.688255   88.254433   86.510170   84.930275   \n",
       "ALFAA.MX   11.979847   12.119263   12.298512   12.308471   12.009722   \n",
       "ALSEA.MX   23.709999   23.879999   24.040001   23.770000   23.379999   \n",
       "AMXL.MX    13.064816   13.007598   13.322298   13.055279   13.007598   \n",
       "ASURB.MX  314.582733  313.806305  314.133698  320.616333  326.425537   \n",
       "\n",
       "Date        20210209    20210210    20210211    20210212    20210215  ...  \\\n",
       "AC.MX      87.204224   85.578659   85.112923   85.021599   85.998756  ...   \n",
       "ALFAA.MX   12.188971   12.059513   12.059513   12.009722   12.079430  ...   \n",
       "ALSEA.MX   23.570000   23.969999   23.920000   24.340000   24.590000  ...   \n",
       "AMXL.MX    13.236470   13.160180   12.921770   13.207862   13.284152  ...   \n",
       "ASURB.MX  325.901672  321.252502  315.714630  317.538757  321.476959  ...   \n",
       "\n",
       "Date        20220117    20220118    20220119    20220120    20220121  \\\n",
       "AC.MX     121.679680  120.052567  117.774605  118.377586  118.492447   \n",
       "ALFAA.MX   14.743370   14.444114   14.783271   14.843123   14.813197   \n",
       "ALSEA.MX   43.139999   43.330002   41.900002   41.959999   39.930000   \n",
       "AMXL.MX    20.307692   19.907396   19.516863   19.350887   19.302071   \n",
       "ASURB.MX  408.588989  406.523773  389.743835  390.059357  386.913727   \n",
       "\n",
       "Date        20220124    20220125    20220126    20220127    20220128  \n",
       "AC.MX     116.989761  117.707603  118.310593  116.281479  116.300621  \n",
       "ALFAA.MX   14.464065   14.513941   14.543866   14.384263   14.573792  \n",
       "ALSEA.MX   39.660000   39.330002   40.790001   40.860001   41.570000  \n",
       "AMXL.MX    19.477812   19.360651   19.341124   18.579586   18.569822  \n",
       "ASURB.MX  381.750641  384.246155  384.982330  382.391266  391.158875  \n",
       "\n",
       "[5 rows x 253 columns]"
      ]
     },
     "execution_count": 18,
     "metadata": {},
     "output_type": "execute_result"
    }
   ],
   "source": [
    "prices_daily.head(5)"
   ]
  },
  {
   "cell_type": "markdown",
   "metadata": {},
   "source": [
    "# <font color= #6B6B6B> 4. Processes  </font>"
   ]
  },
  {
   "cell_type": "markdown",
   "metadata": {},
   "source": [
    "<hr style=\"border:0.02in solid gray\"> </hr>"
   ]
  },
  {
   "cell_type": "markdown",
   "metadata": {},
   "source": [
    "## <font color= #6B6B6B> 4.2 Passive Investment Strategy  </font>"
   ]
  },
  {
   "cell_type": "code",
   "execution_count": 3,
   "metadata": {},
   "outputs": [],
   "source": [
    "# DELETE THIS CELL IN YOUR FILE\n",
    "\n",
    "# A particular process that is relevant for the work you are presenting."
   ]
  },
  {
   "cell_type": "markdown",
   "metadata": {},
   "source": [
    "<br>"
   ]
  },
  {
   "cell_type": "markdown",
   "metadata": {},
   "source": [
    "## <font color= #6B6B6B> 4.2 Active Investment Strategy </font>"
   ]
  },
  {
   "cell_type": "code",
   "execution_count": 4,
   "metadata": {},
   "outputs": [],
   "source": [
    "# DELETE THIS CELL IN YOUR FILE\n",
    "\n",
    "# Another particular process that is relevant for the work. Normally, you include between 2 and 5 at the most."
   ]
  },
  {
   "cell_type": "markdown",
   "metadata": {},
   "source": [
    "<br>"
   ]
  },
  {
   "cell_type": "markdown",
   "metadata": {},
   "source": [
    "# <font color= #6B6B6B> <font size = 6> 5. Conclusions </font>"
   ]
  },
  {
   "cell_type": "markdown",
   "metadata": {},
   "source": [
    "<hr style=\"border:0.02in solid gray\"> </hr>"
   ]
  },
  {
   "cell_type": "markdown",
   "metadata": {},
   "source": [
    "The following table shows the results of the performance of both active and passive strategies. "
   ]
  },
  {
   "cell_type": "code",
   "execution_count": 5,
   "metadata": {},
   "outputs": [],
   "source": [
    "# comparision table of performance of both active and passive \n",
    "# df_medidas "
   ]
  },
  {
   "cell_type": "markdown",
   "metadata": {},
   "source": [
    "<br>"
   ]
  },
  {
   "cell_type": "markdown",
   "metadata": {},
   "source": [
    "We can notice that for active we have a better performance porcentage and a lower sharpe ratio, which could easily indicated that for our data pasive management is worse strategy. "
   ]
  },
  {
   "cell_type": "code",
   "execution_count": null,
   "metadata": {},
   "outputs": [],
   "source": [
    "# aqui podriamos poner una graficas de los rendimientos como van progresando de las tablas que ya tenemos\n"
   ]
  },
  {
   "cell_type": "markdown",
   "metadata": {},
   "source": [
    "In the last decades people have debated which approach is better as the need for a balance between possible risk and return becomes more difficult to manage. As mentioned, both investment management styles have their upsides and downsides, but the importance of comparing the two is very relevant when forming an investment strategy. During this laboratory we found that **active management** can be more complicated and expensive as it includes readjusting shares every month and adding comissión fees based on the amount of shares and prices rebalanced, but at least in this specific scenario we found that it **outperformed passive management** performance during the same period of time. \n"
   ]
  },
  {
   "cell_type": "markdown",
   "metadata": {},
   "source": [
    "<br>"
   ]
  },
  {
   "cell_type": "markdown",
   "metadata": {},
   "source": [
    "# <font color= #6B6B6B> <font size = 6> 6. References </font>"
   ]
  },
  {
   "cell_type": "markdown",
   "metadata": {},
   "source": [
    "<hr style=\"border:0.02in solid gray\"> </hr>"
   ]
  },
  {
   "cell_type": "markdown",
   "metadata": {},
   "source": [
    "[1] Munnoz, 2020. Python project template. https://github.com/iffranciscome/python-project. (2021).\n",
    "[2] Barnes, 2003. Active Vs. Passive Investing. https://iteso.instructure.com/courses/31138/files/5024050?module_item_id=1182549. (2023).\n",
    "[3] Rathbones, 2017. Active vs. passive investing- the great investment debate. https://www.rathbones.com/sites/rathbones.com/files/literature/pdfs/rathbones_active_vs_passive_investing_james_pettit_investment_report_full_website.pdf (2023)"
   ]
  },
  {
   "cell_type": "markdown",
   "metadata": {},
   "source": [
    "<br>"
   ]
  }
 ],
 "metadata": {
  "kernelspec": {
   "display_name": "Python 3",
   "language": "python",
   "name": "python3"
  },
  "language_info": {
   "codemirror_mode": {
    "name": "ipython",
    "version": 3
   },
   "file_extension": ".py",
   "mimetype": "text/x-python",
   "name": "python",
   "nbconvert_exporter": "python",
   "pygments_lexer": "ipython3",
   "version": "3.8.8"
  }
 },
 "nbformat": 4,
 "nbformat_minor": 4
}
